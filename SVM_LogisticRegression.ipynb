{
 "cells": [
  {
   "cell_type": "code",
   "execution_count": 276,
   "metadata": {
    "collapsed": true
   },
   "outputs": [],
   "source": [
    "#import Spark and MLlib packages\n",
    "from pyspark import SparkContext, SparkConf\n",
    "from pyspark.mllib.regression import LabeledPoint\n",
    "from pyspark.mllib.classification import SVMWithSGD, SVMModel\n",
    "from pyspark.mllib.classification import LogisticRegressionWithLBFGS\n",
    "\n",
    "#import data analysis packages\n",
    "import numpy as np\n",
    "import pandas as pd\n",
    "import sklearn\n",
    "\n",
    "from pandas import Series, DataFrame\n",
    "from sklearn import svm\n",
    "from sklearn.svm import SVC\n",
    "from sklearn.cross_validation import train_test_split\n",
    "from sklearn import metrics\n",
    "from sklearn.linear_model import LogisticRegression \n",
    "from numpy import array\n",
    "\n",
    "#import data visualization packages\n",
    "import matplotlib.pyplot as plt\n",
    "import seaborn as sns\n",
    "sns.set_style('whitegrid')\n",
    "%matplotlib inline\n",
    "\n",
    "#misc packages\n",
    "from __future__ import division\n",
    "from __future__ import print_function"
   ]
  },
  {
   "cell_type": "code",
   "execution_count": 203,
   "metadata": {
    "collapsed": false
   },
   "outputs": [],
   "source": [
    "#I SVM\n",
    "#The dataset is picked from here https://github.com/mwaskom/seaborn-data\n",
    "iris = sns.load_dataset(\"iris\")"
   ]
  },
  {
   "cell_type": "code",
   "execution_count": 204,
   "metadata": {
    "collapsed": false
   },
   "outputs": [
    {
     "name": "stdout",
     "output_type": "stream",
     "text": [
      "data_size is 150, feature_size is 5\n"
     ]
    }
   ],
   "source": [
    "#Get the data size and feature size\n",
    "data_size, feature_size = iris.shape\n",
    "print(\"data_size is {}, feature_size is {}\".format(data_size, feature_size))"
   ]
  },
  {
   "cell_type": "code",
   "execution_count": 205,
   "metadata": {
    "collapsed": false,
    "scrolled": true
   },
   "outputs": [
    {
     "name": "stdout",
     "output_type": "stream",
     "text": [
      "   sepal_length  sepal_width  petal_length  petal_width species\n",
      "0           5.1          3.5           1.4          0.2  setosa\n",
      "1           4.9          3.0           1.4          0.2  setosa\n",
      "2           4.7          3.2           1.3          0.2  setosa\n",
      "3           4.6          3.1           1.5          0.2  setosa\n",
      "4           5.0          3.6           1.4          0.2  setosa\n"
     ]
    }
   ],
   "source": [
    "print(iris.head())"
   ]
  },
  {
   "cell_type": "code",
   "execution_count": 163,
   "metadata": {
    "collapsed": false
   },
   "outputs": [],
   "source": [
    "#(1)Data Cleaning\n",
    "#We'll only do binary classification, which means getting only two species\n",
    "#We will aim to distinguish Setosa and Versicolor\n",
    "#Refer data structure at here \n",
    "#https://github.com/mwaskom/seaborn-data/blob/master/iris.csv\n",
    "\n",
    "#1.Store the former 100 data set \n",
    "#2.Label Setosa as 0, Versicolor as 1\n",
    "#3.Move Species column to the first column\n",
    "#4.To get easlier plotting, use first two features"
   ]
  },
  {
   "cell_type": "code",
   "execution_count": 206,
   "metadata": {
    "collapsed": false
   },
   "outputs": [],
   "source": [
    "#1.Store the former 100 data set\n",
    "iris_df = iris.ix[0:99]"
   ]
  },
  {
   "cell_type": "code",
   "execution_count": 207,
   "metadata": {
    "collapsed": false
   },
   "outputs": [],
   "source": [
    "#2.Label Setosa as 0, Versicolor as 1\n",
    "species = iris_df.species\n",
    "label_species = []\n",
    "for i in range(len(species)):\n",
    "    if species[i] == 'setosa':\n",
    "        label_species.insert(i, 1)\n",
    "    else:\n",
    "        label_species.insert(i, 0)"
   ]
  },
  {
   "cell_type": "code",
   "execution_count": 208,
   "metadata": {
    "collapsed": false
   },
   "outputs": [],
   "source": [
    "#Convert list to Series so that it can be load to dataframe\n",
    "series_species = Series(label_species, index = range(100))"
   ]
  },
  {
   "cell_type": "code",
   "execution_count": 209,
   "metadata": {
    "collapsed": false
   },
   "outputs": [
    {
     "name": "stdout",
     "output_type": "stream",
     "text": [
      "   sepal_length  sepal_width  petal_length  petal_width  species\n",
      "0           5.1          3.5           1.4          0.2        1\n",
      "1           4.9          3.0           1.4          0.2        1\n",
      "2           4.7          3.2           1.3          0.2        1\n",
      "3           4.6          3.1           1.5          0.2        1\n",
      "4           5.0          3.6           1.4          0.2        1\n"
     ]
    },
    {
     "name": "stderr",
     "output_type": "stream",
     "text": [
      "/usr/local/lib/python2.7/dist-packages/IPython/kernel/__main__.py:2: SettingWithCopyWarning: \n",
      "A value is trying to be set on a copy of a slice from a DataFrame.\n",
      "Try using .loc[row_indexer,col_indexer] = value instead\n",
      "\n",
      "See the the caveats in the documentation: http://pandas.pydata.org/pandas-docs/stable/indexing.html#indexing-view-versus-copy\n",
      "  from IPython.kernel.zmq import kernelapp as app\n"
     ]
    }
   ],
   "source": [
    "#Reload Series to Species column \n",
    "iris_df['species'] = series_species\n",
    "print(iris_df.head())"
   ]
  },
  {
   "cell_type": "code",
   "execution_count": 210,
   "metadata": {
    "collapsed": false
   },
   "outputs": [],
   "source": [
    "#3.Move Species column to the first column\n",
    "cols = iris_df.columns.tolist()\n",
    "cols = cols[-1:] + cols[:-1]\n",
    "iris_df = iris_df[cols]"
   ]
  },
  {
   "cell_type": "code",
   "execution_count": 211,
   "metadata": {
    "collapsed": false
   },
   "outputs": [
    {
     "name": "stdout",
     "output_type": "stream",
     "text": [
      "   species  sepal_length  sepal_width  petal_length  petal_width\n",
      "0        1           5.1          3.5           1.4          0.2\n",
      "1        1           4.9          3.0           1.4          0.2\n",
      "2        1           4.7          3.2           1.3          0.2\n",
      "3        1           4.6          3.1           1.5          0.2\n",
      "4        1           5.0          3.6           1.4          0.2\n"
     ]
    }
   ],
   "source": [
    "print(iris_df.head())"
   ]
  },
  {
   "cell_type": "code",
   "execution_count": 212,
   "metadata": {
    "collapsed": false
   },
   "outputs": [],
   "source": [
    "#4.To get easlier plotting, use first two features\n",
    "cols = cols[:-2]\n",
    "iris_df = iris_df[cols]"
   ]
  },
  {
   "cell_type": "code",
   "execution_count": 213,
   "metadata": {
    "collapsed": false
   },
   "outputs": [
    {
     "name": "stdout",
     "output_type": "stream",
     "text": [
      "   species  sepal_length  sepal_width\n",
      "0        1           5.1          3.5\n",
      "1        1           4.9          3.0\n",
      "2        1           4.7          3.2\n",
      "3        1           4.6          3.1\n",
      "4        1           5.0          3.6\n"
     ]
    }
   ],
   "source": [
    "print(iris_df.head())"
   ]
  },
  {
   "cell_type": "code",
   "execution_count": 217,
   "metadata": {
    "collapsed": true
   },
   "outputs": [],
   "source": [
    "#(2) Using Sciki-learn SVC \n",
    "data_col = cols[1:]\n",
    "\n",
    "#Target data\n",
    "Y = iris_df['species']\n",
    "\n",
    "#Traning and testing dataset\n",
    "X = iris_df[data_col] "
   ]
  },
  {
   "cell_type": "code",
   "execution_count": 218,
   "metadata": {
    "collapsed": false
   },
   "outputs": [
    {
     "name": "stdout",
     "output_type": "stream",
     "text": [
      "   sepal_length  sepal_width\n",
      "0           5.1          3.5\n",
      "1           4.9          3.0\n",
      "2           4.7          3.2\n",
      "3           4.6          3.1\n",
      "4           5.0          3.6\n"
     ]
    }
   ],
   "source": [
    "print(X.head())"
   ]
  },
  {
   "cell_type": "code",
   "execution_count": 219,
   "metadata": {
    "collapsed": false
   },
   "outputs": [
    {
     "name": "stdout",
     "output_type": "stream",
     "text": [
      "0    1\n",
      "1    1\n",
      "2    1\n",
      "3    1\n",
      "4    1\n",
      "Name: species, dtype: int64\n"
     ]
    }
   ],
   "source": [
    "print(Y.head())"
   ]
  },
  {
   "cell_type": "code",
   "execution_count": 228,
   "metadata": {
    "collapsed": false
   },
   "outputs": [
    {
     "name": "stdout",
     "output_type": "stream",
     "text": [
      "(75, 2) (25, 2) (75,) (25,)\n"
     ]
    }
   ],
   "source": [
    "# Split the data into Trainging and Testing sets\n",
    "X_train, X_test, Y_train, Y_test = train_test_split(X, Y)\n",
    "print(X_train.shape, X_test.shape, Y_train.shape, Y_test.shape)"
   ]
  },
  {
   "cell_type": "code",
   "execution_count": 229,
   "metadata": {
    "collapsed": false
   },
   "outputs": [],
   "source": [
    "# SVM regularizaion parameter\n",
    "C = 1.0\n",
    "\n",
    "#Let's use different Kernel, whic is nothing but \n",
    "#the functions mapping data to hyper dimension\n",
    "\n",
    "#SVC with a linear Kernel\n",
    "svc = svm.SVC(kernel = 'linear', C=C).fit(X_train, Y_train)\n",
    "\n",
    "# Guassian Radial Bassis Function\n",
    "rbf_svc = svm.SVC(kernel='rbf', gamma = 0.7, C=C).fit(X_train, Y_train)\n",
    "\n",
    "# SVC with 3rd degree Polynomial\n",
    "poly_svc = svm.SVC(kernel='poly', degree=3, C=C).fit(X_train, Y_train)\n",
    "\n",
    "#SVC Linear\n",
    "lin_svc = svm.LinearSVC(C=C).fit(X_train, Y_train)"
   ]
  },
  {
   "cell_type": "code",
   "execution_count": 247,
   "metadata": {
    "collapsed": false
   },
   "outputs": [
    {
     "name": "stdout",
     "output_type": "stream",
     "text": [
      "1.0\n",
      "1.0\n",
      "1.0\n",
      "1.0\n"
     ]
    }
   ],
   "source": [
    "#Calculate the fitting error\n",
    "for i, clf in enumerate((svc, lin_svc, rbf_svc, poly_svc)):\n",
    "    predicted = clf.predict(X_test)\n",
    "    expected = Y_test\n",
    "    # Compare results\n",
    "    errors = metrics.accuracy_score(expected,predicted)\n",
    "    print(errors)"
   ]
  },
  {
   "cell_type": "code",
   "execution_count": 253,
   "metadata": {
    "collapsed": true
   },
   "outputs": [],
   "source": [
    "#Let's using all dataset without train/test partitioning.\n",
    "#For plotting purpose\n",
    "svc = svm.SVC(kernel = 'linear', C=C).fit(X, Y)\n",
    "\n",
    "# Guassian Radial Bassis Function\n",
    "rbf_svc = svm.SVC(kernel='rbf', gamma = 0.7, C=C).fit(X, Y)\n",
    "\n",
    "# SVC with 3rd degree Polynomial\n",
    "poly_svc = svm.SVC(kernel='poly', degree=3, C=C).fit(X, Y)\n",
    "\n",
    "#SVC Linear\n",
    "lin_svc = svm.LinearSVC(C=C).fit(X, Y)"
   ]
  },
  {
   "cell_type": "code",
   "execution_count": 254,
   "metadata": {
    "collapsed": false
   },
   "outputs": [],
   "source": [
    "#(3)Setting the data visualization \n",
    "# Set the step size\n",
    "h = 0.02\n",
    "\n",
    "#Use X_test for prediction\n",
    "# X axis\n",
    "x_min=X[\"sepal_length\"].min() - 1\n",
    "x_max =X[\"sepal_length\"].max() + 1\n",
    "\n",
    "# Y axis\n",
    "y_min = X[\"sepal_width\"].min() - 1\n",
    "y_max = X[\"sepal_width\"].max() + 1\n",
    "\n",
    "# create a meshgrid\n",
    "xx, yy = np.meshgrid(np.arange(x_min, x_max, h),np.arange(y_min, y_max, h))"
   ]
  },
  {
   "cell_type": "code",
   "execution_count": 255,
   "metadata": {
    "collapsed": true
   },
   "outputs": [],
   "source": [
    "# titles\n",
    "titles = ['SVC with linear kernel',\n",
    "          'LinearSVC',\n",
    "          'SVC with RBF kernel',\n",
    "          'SVC with polynomial (degree 3) kernel']"
   ]
  },
  {
   "cell_type": "code",
   "execution_count": 320,
   "metadata": {
    "collapsed": false
   },
   "outputs": [
    {
     "data": {
      "image/png": "[encoded data removed]",
      "text/plain": [
       "<matplotlib.figure.Figure at 0x7f90f7f4a6d0>"
      ]
     },
     "metadata": {},
     "output_type": "display_data"
    },
    {
     "data": {
      "image/png": "[encoded data removed]",
      "text/plain": [
       "<matplotlib.figure.Figure at 0x7f90f6f77f50>"
      ]
     },
     "metadata": {},
     "output_type": "display_data"
    },
    {
     "data": {
      "image/png": "[encoded data removed]",
      "text/plain": [
       "<matplotlib.figure.Figure at 0x7f90f6f06610>"
      ]
     },
     "metadata": {},
     "output_type": "display_data"
    },
    {
     "data": {
      "image/png": "[encoded data removed]",
      "text/plain": [
       "<matplotlib.figure.Figure at 0x7f90f6ea5f50>"
      ]
     },
     "metadata": {},
     "output_type": "display_data"
    }
   ],
   "source": [
    "# Use enumerate for a count\n",
    "for i, clf in enumerate((svc, lin_svc, rbf_svc, poly_svc)):\n",
    "    \n",
    "    # Plot the decision boundary. For that, we will assign a color to each\n",
    "    # point in the mesh [x_min, m_max]x[y_min, y_max].\n",
    "    plt.figure(figsize=(7,7))\n",
    "    # Set the subplot position (Size = 2 by 2, position deifined by i count\n",
    "    plt.subplot(111)\n",
    "    \n",
    "    # Subplot spacing\n",
    "    plt.subplots_adjust(wspace=0.4, hspace=0.4)\n",
    "    \n",
    "    # Define Z as the prediction, not the use of ravel to format the arrays\n",
    "    Z = clf.predict(np.c_[xx.ravel(), yy.ravel()])\n",
    "    \n",
    "    # Put the result into a color plot\n",
    "    Z = Z.reshape(xx.shape)\n",
    "    \n",
    "    # Contour plot (filled with contourf)\n",
    "    plt.contourf(xx, yy, Z, cmap=plt.cm.terrain, alpha=0.5,linewidths=0)\n",
    "\n",
    "    # Plot also the training points\n",
    "    plt.scatter(X['sepal_length'], X['sepal_width'], c=Y, cmap=plt.cm.Dark2)\n",
    "    \n",
    "    #colculate the error\n",
    "    #predicted = clf.predict(X_test)\n",
    "    expected = Y_test\n",
    "    # Compare results\n",
    "    errors = metrics.accuracy_score(expected,predicted)\n",
    "    \n",
    "    # Labels and Titles\n",
    "    plt.xlabel('Sepal length')\n",
    "    plt.ylabel('Sepal width errors is {}'.format(errors))\n",
    "    plt.xlim(xx.min(), xx.max())\n",
    "    plt.ylim(yy.min(), yy.max())\n",
    "    plt.xticks(())\n",
    "    plt.yticks(())\n",
    "    plt.title(titles[i])\n",
    "\n",
    "\n",
    "plt.show()\n",
    "\n"
   ]
  },
  {
   "cell_type": "code",
   "execution_count": 273,
   "metadata": {
    "collapsed": false
   },
   "outputs": [
    {
     "data": {
      "text/plain": [
       "<seaborn.axisgrid.FacetGrid at 0x7f90f89b7fd0>"
      ]
     },
     "execution_count": 273,
     "metadata": {},
     "output_type": "execute_result"
    },
    {
     "data": {
      "image/png": "[encoded data removed]",
      "text/plain": [
       "<matplotlib.figure.Figure at 0x7f90f8471590>"
      ]
     },
     "metadata": {},
     "output_type": "display_data"
    }
   ],
   "source": [
    "#II Let's using Logistric Regression\n",
    "#let's study the correlation by factorplot\n",
    "sns.factorplot(\"sepal_length\", \"sepal_width\", data=iris_df, hue='species', palette='coolwarm', size=8)"
   ]
  },
  {
   "cell_type": "code",
   "execution_count": 277,
   "metadata": {
    "collapsed": false
   },
   "outputs": [
    {
     "data": {
      "text/plain": [
       "LogisticRegression(C=1.0, class_weight=None, dual=False, fit_intercept=True,\n",
       "          intercept_scaling=1, penalty='l2', random_state=None, tol=0.0001)"
      ]
     },
     "execution_count": 277,
     "metadata": {},
     "output_type": "execute_result"
    }
   ],
   "source": [
    "#Let's train the model\n",
    "log_model = LogisticRegression()\n",
    "\n",
    "log_model.fit(X_train, Y_train)"
   ]
  },
  {
   "cell_type": "code",
   "execution_count": 279,
   "metadata": {
    "collapsed": false
   },
   "outputs": [
    {
     "name": "stdout",
     "output_type": "stream",
     "text": [
      "1.0\n"
     ]
    }
   ],
   "source": [
    "#Predict the accuracy score\n",
    "class_predict = log_model.predict(X_test)\n",
    "\n",
    "print(metrics.accuracy_score(Y_test, class_predict))"
   ]
  },
  {
   "cell_type": "code",
   "execution_count": 297,
   "metadata": {
    "collapsed": false
   },
   "outputs": [],
   "source": [
    "#dump the tips to a local file for now\n",
    "X_data_size = len(X['sepal_length'])\n",
    "Y = np.vstack(Y)\n",
    "\n",
    "fo = open(\"/usr/local/spark/examples/src/main/resources/iris_2.data\", \"w\")\n",
    "for i in range(X_data_size):    \n",
    "    fo.write(\"{} {} {}\\n\".format(float(Y[i][0]), float(X['sepal_length'][i]), float(X['sepal_width'][i]))) \n",
    "\n",
    "fo.close()"
   ]
  },
  {
   "cell_type": "code",
   "execution_count": 298,
   "metadata": {
    "collapsed": true
   },
   "outputs": [],
   "source": [
    "#PySpark Part\n",
    "sc = SparkContext(\"local\", \"SVM_LogisticRegression\")"
   ]
  },
  {
   "cell_type": "code",
   "execution_count": 299,
   "metadata": {
    "collapsed": true
   },
   "outputs": [],
   "source": [
    "df_RDD = sc.textFile(\"/usr/local/spark/examples/src/main/resources/iris_2.data\")"
   ]
  },
  {
   "cell_type": "code",
   "execution_count": 307,
   "metadata": {
    "collapsed": false
   },
   "outputs": [],
   "source": [
    "#III PySpark MLlib SVM\n",
    "\n",
    "def parsePoint(line):\n",
    "    values = [float(x) for x in line.split(' ')]\n",
    "    return LabeledPoint(values[0], values[1:])\n",
    "\n",
    "parsedData = df_RDD.map(parsePoint)\n"
   ]
  },
  {
   "cell_type": "code",
   "execution_count": 308,
   "metadata": {
    "collapsed": false
   },
   "outputs": [
    {
     "data": {
      "text/plain": [
       "[LabeledPoint(1.0, [5.1,3.5]),\n",
       " LabeledPoint(1.0, [4.9,3.0]),\n",
       " LabeledPoint(1.0, [4.7,3.2]),\n",
       " LabeledPoint(1.0, [4.6,3.1]),\n",
       " LabeledPoint(1.0, [5.0,3.6]),\n",
       " LabeledPoint(1.0, [5.4,3.9]),\n",
       " LabeledPoint(1.0, [4.6,3.4]),\n",
       " LabeledPoint(1.0, [5.0,3.4]),\n",
       " LabeledPoint(1.0, [4.4,2.9]),\n",
       " LabeledPoint(1.0, [4.9,3.1])]"
      ]
     },
     "execution_count": 308,
     "metadata": {},
     "output_type": "execute_result"
    }
   ],
   "source": [
    "parsedData.take(10)"
   ]
  },
  {
   "cell_type": "code",
   "execution_count": 309,
   "metadata": {
    "collapsed": true
   },
   "outputs": [],
   "source": [
    "#Build the model\n",
    "model = SVMWithSGD.train(parsedData, iterations=100)"
   ]
  },
  {
   "cell_type": "code",
   "execution_count": 310,
   "metadata": {
    "collapsed": false
   },
   "outputs": [
    {
     "name": "stdout",
     "output_type": "stream",
     "text": [
      "MLlib SVM Trainging Error = 0.01\n"
     ]
    }
   ],
   "source": [
    "#Evaluate\n",
    "labelsAndPreds = parsedData.map(lambda p: (p.label, model.predict(p.features)))\n",
    "trainErr = labelsAndPreds.filter(lambda (v, p): v != p).count()/float(parsedData.count())\n",
    "print(\"MLlib SVM Trainging Error = \" + str(trainErr))"
   ]
  },
  {
   "cell_type": "code",
   "execution_count": 312,
   "metadata": {
    "collapsed": false
   },
   "outputs": [],
   "source": [
    "#IV Using LogisticRegression\n",
    "LogR_model = LogisticRegressionWithLBFGS.train(parsedData)"
   ]
  },
  {
   "cell_type": "code",
   "execution_count": 313,
   "metadata": {
    "collapsed": false
   },
   "outputs": [
    {
     "name": "stdout",
     "output_type": "stream",
     "text": [
      "MLlib LogisticRegression Trainging Error = 0.01\n"
     ]
    }
   ],
   "source": [
    "#Evaluate\n",
    "LogR_labelsAndPreds = parsedData.map(lambda p: (p.label, LogR_model.predict(p.features)))\n",
    "LogR_trainErr = LogR_labelsAndPreds.filter(lambda (v, p): v != p).count()/float(parsedData.count())\n",
    "print(\"MLlib LogisticRegression Trainging Error = \" + str(LogR_trainErr))"
   ]
  }
 ],
 "metadata": {
  "kernelspec": {
   "display_name": "Python 2",
   "language": "python",
   "name": "python2"
  },
  "language_info": {
   "codemirror_mode": {
    "name": "ipython",
    "version": 2
   },
   "file_extension": ".py",
   "mimetype": "text/x-python",
   "name": "python",
   "nbconvert_exporter": "python",
   "pygments_lexer": "ipython2",
   "version": "2.7.9"
  }
 },
 "nbformat": 4,
 "nbformat_minor": 0
}
